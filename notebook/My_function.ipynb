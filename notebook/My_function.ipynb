{
 "cells": [
  {
   "cell_type": "code",
   "execution_count": 26,
   "id": "87f6ebf0",
   "metadata": {},
   "outputs": [],
   "source": [
    "import pandas as pd\n",
    "import numpy as np\n",
    "\n",
    "\n",
    "from scipy.stats import pearsonr\n",
    "from scipy import stats\n",
    "\n",
    "from sklearn.preprocessing import StandardScaler, MinMaxScaler, RobustScaler\n",
    "from sklearn.metrics import silhouette_samples, silhouette_score\n",
    "\n",
    "from sklearn.linear_model import LinearRegression\n",
    "from sklearn.metrics import f1_score\n",
    "\n",
    "import matplotlib.pyplot as plt\n",
    "\n",
    "\n",
    "import seaborn as sns\n",
    "\n"
   ]
  },
  {
   "cell_type": "markdown",
   "id": "62c1d5b0",
   "metadata": {},
   "source": [
    "# Exploration of Data"
   ]
  },
  {
   "cell_type": "markdown",
   "id": "d7ff8eb8",
   "metadata": {},
   "source": [
    "## my_exploration()"
   ]
  },
  {
   "cell_type": "code",
   "execution_count": 27,
   "id": "d90a1a46",
   "metadata": {},
   "outputs": [],
   "source": [
    "def my_exploration(data):\n",
    "    display(data.describe())"
   ]
  },
  {
   "cell_type": "markdown",
   "id": "ebdd2127",
   "metadata": {},
   "source": [
    "## my_data_visualisation()"
   ]
  },
  {
   "cell_type": "code",
   "execution_count": 28,
   "id": "98d19f85",
   "metadata": {},
   "outputs": [],
   "source": [
    "def my_data_visualisation(df, variable):\n",
    " \n",
    "    df[variable].hist()\n",
    "    plt.title(variable)\n",
    "    plt.show()"
   ]
  },
  {
   "cell_type": "markdown",
   "id": "4c01cfe4",
   "metadata": {},
   "source": [
    "# Clean Data"
   ]
  },
  {
   "cell_type": "markdown",
   "id": "09c457ef",
   "metadata": {},
   "source": [
    "## my_missing_values()"
   ]
  },
  {
   "cell_type": "code",
   "execution_count": 29,
   "id": "2bb917dd",
   "metadata": {},
   "outputs": [],
   "source": [
    "def my_missing_values(df, apply_all=False, strategie=None):\n",
    "  \n",
    "    strategies = {}\n",
    "    \n",
    "    if apply_all:\n",
    "        strat = strategie\n",
    "        if strat == 'most':\n",
    "            for col in df.columns[df.isna().any()].tolist():\n",
    "                valeur_plus_frequente = df[col].value_counts().idxmax()\n",
    "                df[col].fillna(valeur_plus_frequente, inplace=True)\n",
    "        elif strat == 'constant':\n",
    "            constante = input(\"give constant value to replace : \")\n",
    "            for col in df.columns[df.isna().any()].tolist():\n",
    "                df[col].fillna(constante, inplace=True)\n",
    "        elif strat == 'delete':\n",
    "            df = df.dropna()\n",
    "        elif strat == 'mean':\n",
    "            df.fillna(df.mean(), inplace=True)\n",
    "        elif strat == 'median':\n",
    "            df.fillna(df.median(), inplace=True)\n",
    "    else:\n",
    "        # iput strategy data\n",
    "        for col in df.columns[df.isna().any()].tolist():\n",
    "            strat = input(f\"chose strategy '{col}':\\n - 'delete' : delete nan values\\n - 'replace' : replace nana value by mean\\n - 'median' : by median\\n - 'most' : mode\\n - 'constant' : by constante\\n\")\n",
    "            strategies[col] = strat\n",
    "\n",
    "        for col, strat in strategies.items():\n",
    "            if strat == 'delete':\n",
    "                df = df.dropna(subset=[col])\n",
    "            elif strat == 'replace':\n",
    "                moyenne = df[col].mean()\n",
    "                df[col].fillna(moyenne, inplace=True)\n",
    "            elif strat == 'median':\n",
    "                mediane = df[col].median()\n",
    "                df[col].fillna(mediane, inplace=True)\n",
    "            elif strat == 'most':\n",
    "                valeur = df[col].mode().iloc[0]\n",
    "                df[col].fillna(valeur, inplace=True)\n",
    "            elif strat == 'constant':\n",
    "                valeur_constante = input(f\"give constant value for replace '{col}': \")\n",
    "                df[col].fillna(valeur_constante, inplace=True)\n",
    "\n",
    "    return df\n"
   ]
  },
  {
   "cell_type": "markdown",
   "id": "360f94a5",
   "metadata": {},
   "source": [
    "## my_fill_missing_data()"
   ]
  },
  {
   "cell_type": "code",
   "execution_count": 30,
   "id": "7db2e871",
   "metadata": {},
   "outputs": [],
   "source": [
    "def my_fill_missing_data(data, method='linear', axis=0):\n",
    "\n",
    "    if axis != 0 and axis != 1:\n",
    "        raise ValueError(\"axe must 0, soit 1.\")\n",
    "\n",
    "    missing = np.isnan(data)\n",
    "    \n",
    "\n",
    "    if np.all(missing):\n",
    "        return data\n",
    "\n",
    "    \n",
    "    if not np.any(missing):\n",
    "        return data\n",
    "\n",
    "  \n",
    "    if axis == 1:\n",
    "        data = data.T\n",
    "        missing = missing.T\n",
    "\n",
    "    \n",
    "    not_missing = np.logical_not(missing)\n",
    "\n",
    "    # split data\n",
    "    missing_x = np.argwhere(missing)\n",
    "    missing_y = data[not_missing]\n",
    "    not_missing_x = np.argwhere(not_missing)\n",
    "    not_missing_y = data[not_missing]\n",
    "\n",
    "    # apply replace method\n",
    "    if method == 'linear':\n",
    "        model = LinearRegression()\n",
    "        model.fit(not_missing_x, not_missing_y)\n",
    "        missing_y = model.predict(missing_x)\n",
    "    elif method == 'nearest':\n",
    "        missing_y = np.interp(missing_x, not_missing_x, not_missing_y)\n",
    "    elif method == 'zero':\n",
    "        missing_y = np.zeros(missing_x.shape)\n",
    "    elif method == 'slinear':\n",
    "        missing_y = np.interp(missing_x, not_missing_x, not_missing_y, left=0, right=0)\n",
    "    elif method == 'quadratic':\n",
    "        p = np.polyfit(not_missing_x.flatten(), not_missing_y, 2)\n",
    "        missing_y = np.polyval(p, missing_x.flatten())\n",
    "    elif method == 'cubic':\n",
    "        p = np.polyfit(not_missing_x.flatten(), not_missing_y, 3)\n",
    "        missing_y = np.polyval(p, missing_x.flatten())\n",
    "\n",
    "    # add missing data\n",
    "    data[missing] = missing_y.flatten()\n",
    "\n",
    "    \n",
    "    if axis == 1:\n",
    "        data = data.T\n",
    "        \n",
    "    print(missing)\n",
    "    print(data)\n",
    "\n",
    "    return data\n"
   ]
  },
  {
   "cell_type": "markdown",
   "id": "8bf3db8e",
   "metadata": {},
   "source": [
    "## my_data_scaler()"
   ]
  },
  {
   "cell_type": "code",
   "execution_count": 31,
   "id": "4f496365",
   "metadata": {},
   "outputs": [],
   "source": [
    "import numpy as np\n",
    "\n",
    "def my_data_scaler(df, columns=None, method=\"standard\", scaler_all=False):\n",
    " \n",
    "    # check if can scale\n",
    "    if columns is None and not scaler_all:\n",
    "        raise ValueError(\"check the columns to scale.\")\n",
    "    \n",
    "    if scaler_all:\n",
    "        columns = df.columns.tolist()\n",
    "    \n",
    "    # select sclae method.\n",
    "    if method == \"standard\":\n",
    "        scaler = StandardScaler()\n",
    "    elif method == \"minmax\":\n",
    "        scaler = MinMaxScaler()\n",
    "    elif method == \"robust\":\n",
    "        scaler = RobustScaler()\n",
    "    elif method == \"log\":\n",
    "        def log_scaler(data):\n",
    "            return np.log1p(data)\n",
    "        scaler = log_scaler\n",
    "    else:\n",
    "        raise ValueError(\"Method not valid:'standard', 'minmax', 'robust', 'log'.\")\n",
    "\n",
    "    # scale data   \n",
    "    if method == \"log\":\n",
    "        df_scaled = df[columns].apply(scaler)\n",
    "    else:\n",
    "        scaler.fit(df[columns])\n",
    "        scaled_data = scaler.transform(df[columns])\n",
    "        df_scaled = pd.DataFrame(scaled_data, columns=columns, index=df.index)\n",
    "    \n",
    "    # replace by sclaed data.\n",
    "    df = pd.concat([df.drop(columns, axis=1), df_scaled], axis=1)\n",
    "    return df\n",
    "\n",
    "\n"
   ]
  },
  {
   "cell_type": "markdown",
   "id": "878642f5",
   "metadata": {},
   "source": [
    "## My_inverse_log"
   ]
  },
  {
   "cell_type": "code",
   "execution_count": 32,
   "id": "50307769",
   "metadata": {},
   "outputs": [],
   "source": [
    "def my_inverse_log(df, columns=None, inverse_log_all=False):\n",
    "\n",
    "    \n",
    "    if columns is None and not inverse_log_all:\n",
    "        raise ValueError(\"Specefy column.\")\n",
    "    \n",
    "    if inverse_log_all:\n",
    "        columns = df.columns.tolist()\n",
    "    \n",
    "    \n",
    "    df_inverse_log = df[columns].apply(lambda x: np.expm1(x))\n",
    "    \n",
    "    df_result = pd.concat([df.drop(columns, axis=1), df_inverse_log], axis=1)\n",
    "    \n",
    "    return df_result\n"
   ]
  },
  {
   "cell_type": "markdown",
   "id": "78e021ea",
   "metadata": {},
   "source": [
    "# EDA"
   ]
  },
  {
   "cell_type": "markdown",
   "id": "210e9975",
   "metadata": {},
   "source": [
    "## Univriate Analyse"
   ]
  },
  {
   "cell_type": "markdown",
   "id": "80dfd220",
   "metadata": {},
   "source": [
    "### my_boxplots()"
   ]
  },
  {
   "cell_type": "code",
   "execution_count": 33,
   "id": "32ee32c8",
   "metadata": {},
   "outputs": [],
   "source": [
    "def my_boxplots(df):\n",
    "   \n",
    "    fig, ax = plt.subplots(figsize=(15,10))\n",
    "    df.boxplot(ax=ax)\n",
    "    plt.xticks(rotation=90)\n",
    "    plt.show()"
   ]
  },
  {
   "cell_type": "markdown",
   "id": "eb321404",
   "metadata": {},
   "source": [
    "## Bivariate Analyse"
   ]
  },
  {
   "cell_type": "markdown",
   "id": "4ed9cc32",
   "metadata": {},
   "source": [
    "### my_corr_heatmap()"
   ]
  },
  {
   "cell_type": "code",
   "execution_count": 34,
   "id": "d2fd6419",
   "metadata": {},
   "outputs": [],
   "source": [
    "def my_corr_heatmap(data, annot=True):\n",
    "\n",
    "    plt.figure(figsize=(10,6))\n",
    "    plt.title(\"Heatmap of pearson correlation\")\n",
    "    sns.heatmap(data.corr(), annot=annot,cmap=\"coolwarm\")\n",
    "    plt.show()"
   ]
  },
  {
   "cell_type": "markdown",
   "id": "d863591f",
   "metadata": {},
   "source": [
    "# Machine Learning"
   ]
  },
  {
   "cell_type": "markdown",
   "id": "699afa0d",
   "metadata": {},
   "source": [
    "## my_backward_selected()"
   ]
  },
  {
   "cell_type": "code",
   "execution_count": 35,
   "id": "f05deaea",
   "metadata": {},
   "outputs": [],
   "source": [
    "def my_backward_selected(data, response):\n",
    " \n",
    "    remaining = set(data._get_numeric_data().columns)\n",
    "    if response in remaining:\n",
    "        remaining.remove(response)\n",
    "    cond = True\n",
    "\n",
    "    while remaining and cond:\n",
    "        formula = \"{} ~ {} + 1\".format(response,' + '.join(remaining))\n",
    "        print('_______________________________')\n",
    "        print(formula)\n",
    "        model = smf.ols(formula, data).fit()\n",
    "        score = model.pvalues[1:]\n",
    "        toRemove = score[score == score.max()]\n",
    "        if toRemove.values > 0.05:\n",
    "            print('remove', toRemove.index[0], '(p-value :', round(toRemove.values[0],3), ')')\n",
    "            remaining.remove(toRemove.index[0])\n",
    "        else:\n",
    "            cond = False\n",
    "            print('is the final model !')\n",
    "        print('')\n",
    "    print(model.summary())\n",
    "    \n",
    "    return model"
   ]
  },
  {
   "cell_type": "code",
   "execution_count": 36,
   "id": "ca8ddfe0",
   "metadata": {},
   "outputs": [],
   "source": [
    "def my_backward_selected_logistic(data, response):\n",
    " \n",
    "    remaining = set(data._get_numeric_data().columns)\n",
    "    if response in remaining:\n",
    "        remaining.remove(response)\n",
    "    cond = True\n",
    "\n",
    "    while remaining and cond:\n",
    "        formula = \"{} ~ {} + 1\".format(response, ' + '.join(remaining))\n",
    "        print('_______________________________')\n",
    "        print(formula)\n",
    "        model = smf.logit(formula, data).fit()\n",
    "        score = model.pvalues[1:]\n",
    "        toRemove = score[score == score.max()]\n",
    "        if toRemove.values > 0.05:\n",
    "            print('remove', toRemove.index[0], '(p-value:', round(toRemove.values[0], 3), ')')\n",
    "            remaining.remove(toRemove.index[0])\n",
    "        else:\n",
    "            cond = False\n",
    "            print('is the final model!')\n",
    "        print('')\n",
    "    print(model.summary())\n",
    "\n",
    "    return model\n"
   ]
  }
 ],
 "metadata": {
  "kernelspec": {
   "display_name": "Python 3 (ipykernel)",
   "language": "python",
   "name": "python3"
  },
  "language_info": {
   "codemirror_mode": {
    "name": "ipython",
    "version": 3
   },
   "file_extension": ".py",
   "mimetype": "text/x-python",
   "name": "python",
   "nbconvert_exporter": "python",
   "pygments_lexer": "ipython3",
   "version": "3.12.2"
  },
  "toc": {
   "base_numbering": 1,
   "nav_menu": {},
   "number_sections": true,
   "sideBar": false,
   "skip_h1_title": false,
   "title_cell": "Sommaire",
   "title_sidebar": "Contents",
   "toc_cell": true,
   "toc_position": {
    "height": "638px",
    "left": "1559px",
    "top": "110px",
    "width": "322px"
   },
   "toc_section_display": true,
   "toc_window_display": true
  },
  "varInspector": {
   "cols": {
    "lenName": 16,
    "lenType": 16,
    "lenVar": 40
   },
   "kernels_config": {
    "python": {
     "delete_cmd_postfix": "",
     "delete_cmd_prefix": "del ",
     "library": "var_list.py",
     "varRefreshCmd": "print(var_dic_list())"
    },
    "r": {
     "delete_cmd_postfix": ") ",
     "delete_cmd_prefix": "rm(",
     "library": "var_list.r",
     "varRefreshCmd": "cat(var_dic_list()) "
    }
   },
   "types_to_exclude": [
    "module",
    "function",
    "builtin_function_or_method",
    "instance",
    "_Feature"
   ],
   "window_display": false
  }
 },
 "nbformat": 4,
 "nbformat_minor": 5
}
